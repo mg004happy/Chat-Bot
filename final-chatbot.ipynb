{
 "cells": [
  {
   "cell_type": "code",
   "execution_count": null,
   "id": "f973e5d4-6228-4b2c-96c5-ab035255298a",
   "metadata": {},
   "outputs": [],
   "source": [
    "# !pip install torch\n",
    "# !pip install transformers==4.35.2\n",
    "# !pip install sentence-transformers\n",
    "# !pip install faiss-cpu\n",
    "# !pip install gradio"
   ]
  },
  {
   "cell_type": "code",
   "execution_count": 7,
   "id": "d354d029-b351-4a48-b7a3-8264a6e52a6e",
   "metadata": {},
   "outputs": [
    {
     "name": "stderr",
     "output_type": "stream",
     "text": [
      "C:\\Users\\mudit\\anaconda3\\envs\\ragbot310\\lib\\site-packages\\tqdm\\auto.py:21: TqdmWarning: IProgress not found. Please update jupyter and ipywidgets. See https://ipywidgets.readthedocs.io/en/stable/user_install.html\n",
      "  from .autonotebook import tqdm as notebook_tqdm\n"
     ]
    }
   ],
   "source": [
    "import pandas as pd\n",
    "from sentence_transformers import SentenceTransformer\n",
    "from transformers import AutoTokenizer, AutoModelForSeq2SeqLM\n",
    "import faiss\n",
    "import numpy as np\n",
    "import torch\n",
    "import time"
   ]
  },
  {
   "cell_type": "code",
   "execution_count": 9,
   "id": "2e766f7a-df32-4600-a368-550b35dbd794",
   "metadata": {},
   "outputs": [],
   "source": [
    "EMBEDDING_MODEL = 'all-MiniLM-L6-v2'\n",
    "GENERATOR_MODEL = 'google/flan-t5-small'\n",
    "TOP_K = 3\n",
    "MAX_INPUT_LENGTH = 512\n",
    "MAX_OUTPUT_TOKENS = 100"
   ]
  },
  {
   "cell_type": "code",
   "execution_count": 10,
   "id": "d327a488-9e60-42a9-a351-ee71517c435c",
   "metadata": {},
   "outputs": [],
   "source": [
    "def load_and_prepare_documents(train_path='Training-Dataset.csv', test_path='Test-Dataset.csv'):\n",
    "    train_df = pd.read_csv(train_path)\n",
    "    test_df = pd.read_csv(test_path)\n",
    "    combined_df = pd.concat([train_df, test_df], axis=0).fillna(\"Unknown\")\n",
    "\n",
    "    documents = [\n",
    "        \" | \".join(f\"{col}: {str(row[col])}\" for col in combined_df.columns)\n",
    "        for _, row in combined_df.iterrows()\n",
    "    ]\n",
    "    return documents"
   ]
  },
  {
   "cell_type": "code",
   "execution_count": 11,
   "id": "a140ca36-9899-4ca1-8d73-28342ce60463",
   "metadata": {},
   "outputs": [],
   "source": [
    "def create_faiss_index(documents, embedder):\n",
    "    embeddings = embedder.encode(documents, convert_to_numpy=True)\n",
    "    dim = embeddings[0].shape[0]\n",
    "    index = faiss.IndexFlatL2(dim)\n",
    "    index.add(np.array(embeddings))\n",
    "    return index, embeddings"
   ]
  },
  {
   "cell_type": "code",
   "execution_count": 12,
   "id": "73ef4832-e17f-4e86-a527-4935ab938d8c",
   "metadata": {},
   "outputs": [],
   "source": [
    "def retrieve_context(query, embedder, index, documents, top_k=TOP_K):\n",
    "    query_vector = embedder.encode([query])\n",
    "    _, indices = index.search(np.array(query_vector), top_k)\n",
    "    return [documents[i] for i in indices[0]]"
   ]
  },
  {
   "cell_type": "code",
   "execution_count": 13,
   "id": "9440fa1c-3862-472c-ab2d-5c997d224586",
   "metadata": {},
   "outputs": [],
   "source": [
    "def setup_generator(model_name=GENERATOR_MODEL):\n",
    "    tokenizer = AutoTokenizer.from_pretrained(model_name)\n",
    "    model = AutoModelForSeq2SeqLM.from_pretrained(model_name)\n",
    "    device = torch.device(\"cuda\" if torch.cuda.is_available() else \"cpu\")\n",
    "    return tokenizer, model.to(device), device\n"
   ]
  },
  {
   "cell_type": "code",
   "execution_count": 14,
   "id": "43d2ec28-ecec-40ae-a61d-3bf619f4be2f",
   "metadata": {},
   "outputs": [],
   "source": [
    "def answer_question_rag(query, embedder, index, documents, tokenizer, model, device):\n",
    "    try:\n",
    "        context_docs = retrieve_context(query, embedder, index, documents, top_k=TOP_K)\n",
    "        context = \" \".join(context_docs)\n",
    "\n",
    "        prompt = f\"Context: {context} \\n\\nQuestion: {query} \\n\\nAnswer:\"\n",
    "        inputs = tokenizer(prompt, return_tensors=\"pt\", truncation=True, max_length=MAX_INPUT_LENGTH).to(device)\n",
    "        outputs = model.generate(**inputs, max_new_tokens=MAX_OUTPUT_TOKENS)\n",
    "        answer = tokenizer.decode(outputs[0], skip_special_tokens=True)\n",
    "\n",
    "        return answer\n",
    "    except Exception as e:\n",
    "        return f\"Error: {str(e)}\""
   ]
  },
  {
   "cell_type": "code",
   "execution_count": 15,
   "id": "805d7fde-5ca9-40eb-8639-5e4cfea14072",
   "metadata": {},
   "outputs": [
    {
     "name": "stdout",
     "output_type": "stream",
     "text": [
      "Loading documents...\n",
      "Loading embedding model...\n"
     ]
    },
    {
     "name": "stderr",
     "output_type": "stream",
     "text": [
      "C:\\Users\\mudit\\anaconda3\\envs\\ragbot310\\lib\\site-packages\\huggingface_hub\\file_download.py:143: UserWarning: `huggingface_hub` cache-system uses symlinks by default to efficiently store duplicated files but your machine does not support them in C:\\Users\\mudit\\.cache\\huggingface\\hub\\models--sentence-transformers--all-MiniLM-L6-v2. Caching files will still work but in a degraded version that might require more space on your disk. This warning can be disabled by setting the `HF_HUB_DISABLE_SYMLINKS_WARNING` environment variable. For more details, see https://huggingface.co/docs/huggingface_hub/how-to-cache#limitations.\n",
      "To support symlinks on Windows, you either need to activate Developer Mode or to run Python as an administrator. In order to activate developer mode, see this article: https://docs.microsoft.com/en-us/windows/apps/get-started/enable-your-device-for-development\n",
      "  warnings.warn(message)\n",
      "Xet Storage is enabled for this repo, but the 'hf_xet' package is not installed. Falling back to regular HTTP download. For better performance, install the package with: `pip install huggingface_hub[hf_xet]` or `pip install hf_xet`\n"
     ]
    },
    {
     "name": "stdout",
     "output_type": "stream",
     "text": [
      "Building FAISS index...\n"
     ]
    },
    {
     "name": "stderr",
     "output_type": "stream",
     "text": [
      "C:\\Users\\mudit\\anaconda3\\envs\\ragbot310\\lib\\site-packages\\torch\\nn\\modules\\module.py:1762: FutureWarning: `encoder_attention_mask` is deprecated and will be removed in version 4.55.0 for `BertSdpaSelfAttention.forward`.\n",
      "  return forward_call(*args, **kwargs)\n"
     ]
    },
    {
     "name": "stdout",
     "output_type": "stream",
     "text": [
      "Loading generator model...\n",
      "System ready. Asking question...\n",
      "\n",
      "Q: What is the average loan amount?\n",
      "A: The average loan amount is £25.\n",
      "\n",
      "Completed in 48.65 seconds.\n"
     ]
    }
   ],
   "source": [
    "if __name__ == \"__main__\":\n",
    "    start_time = time.time()\n",
    "    \n",
    "    print(\"Loading documents...\")\n",
    "    documents = load_and_prepare_documents()\n",
    "\n",
    "    print(\"Loading embedding model...\")\n",
    "    embedder = SentenceTransformer(EMBEDDING_MODEL)\n",
    "\n",
    "    print(\"Building FAISS index...\")\n",
    "    index, _ = create_faiss_index(documents, embedder)\n",
    "\n",
    "    print(\"Loading generator model...\")\n",
    "    tokenizer, model, device = setup_generator()\n",
    "\n",
    "    print(\"System ready. Asking question...\\n\")\n",
    "    question = \"What is the average loan amount?\"\n",
    "    answer = answer_question_rag(question, embedder, index, documents, tokenizer, model, device)\n",
    "\n",
    "    print(f\"Q: {question}\")\n",
    "    print(f\"A: {answer}\")\n",
    "\n",
    "    print(f\"\\nCompleted in {round(time.time() - start_time, 2)} seconds.\")"
   ]
  },
  {
   "cell_type": "code",
   "execution_count": 16,
   "id": "1ed694e4-b56e-476e-98cd-7945e69eca6d",
   "metadata": {},
   "outputs": [
    {
     "name": "stdout",
     "output_type": "stream",
     "text": [
      "* Running on local URL:  http://127.0.0.1:7860\n",
      "* To create a public link, set `share=True` in `launch()`.\n"
     ]
    },
    {
     "data": {
      "text/html": [
       "<div><iframe src=\"http://127.0.0.1:7860/\" width=\"100%\" height=\"500\" allow=\"autoplay; camera; microphone; clipboard-read; clipboard-write;\" frameborder=\"0\" allowfullscreen></iframe></div>"
      ],
      "text/plain": [
       "<IPython.core.display.HTML object>"
      ]
     },
     "metadata": {},
     "output_type": "display_data"
    },
    {
     "data": {
      "text/plain": []
     },
     "execution_count": 16,
     "metadata": {},
     "output_type": "execute_result"
    }
   ],
   "source": [
    "import gradio as gr\n",
    "\n",
    "def rag_chatbot(query):\n",
    "    return answer_question_rag(query, embedder, index, documents, tokenizer, model, device)\n",
    "\n",
    "gr.Interface(fn=rag_chatbot, inputs=\"text\", outputs=\"text\", title=\"Loan Dataset RAG Chatbot\").launch()\n"
   ]
  },
  {
   "cell_type": "code",
   "execution_count": null,
   "id": "f80c3d90-7ad8-4128-808b-3a6ef98d8af4",
   "metadata": {},
   "outputs": [],
   "source": []
  }
 ],
 "metadata": {
  "kernelspec": {
   "display_name": "Python [conda env:ragbot310]",
   "language": "python",
   "name": "conda-env-ragbot310-py"
  },
  "language_info": {
   "codemirror_mode": {
    "name": "ipython",
    "version": 3
   },
   "file_extension": ".py",
   "mimetype": "text/x-python",
   "name": "python",
   "nbconvert_exporter": "python",
   "pygments_lexer": "ipython3",
   "version": "3.10.18"
  },
  "widgets": {
   "application/vnd.jupyter.widget-state+json": {
    "state": {},
    "version_major": 2,
    "version_minor": 0
   }
  }
 },
 "nbformat": 4,
 "nbformat_minor": 5
}
